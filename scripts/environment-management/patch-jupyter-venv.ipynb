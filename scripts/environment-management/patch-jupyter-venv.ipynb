{
 "cells": [
  {
   "cell_type": "markdown",
   "id": "9e5af62f",
   "metadata": {},
   "source": [
    "**NOTE** to ensure bash script compatibility when outputting from jupytext, you need to ensure the notebook's metadata has `jupyter/executable` set to `/usr/bin/env bash`. The notebook's metadata can be edited as json via `Edit -> Edit Notebook Metadata` in the menu"
   ]
  },
  {
   "cell_type": "markdown",
   "id": "5f6289aa",
   "metadata": {},
   "source": [
    "this script is a patch to fix what looks like https://github.com/ipython-contrib/jupyter_contrib_nbextensions/issues/1529\n",
    "unpatched, the server shows warnings like these when loading a notebook:\n",
    "```\n",
    "   [W 00:39:58.530 NotebookApp] Config option `template_path` not recognized by `ExporterCollapsibleHeadings`.  Did you mean one of: `extra_template_paths, template_name, template_paths`?\n",
    "   [W 00:39:58.535 NotebookApp] Config option `template_path` not recognized by `ExporterCollapsibleHeadings`.  Did you mean one of: `extra_template_paths, template_name, template_paths`?\n",
    "   [W 00:39:58.572 NotebookApp] Config option `template_path` not recognized by `TocExporter`.  Did you mean one of: `extra_template_paths, template_name, template_paths`?\n",
    "   [W 00:39:58.577 NotebookApp] Config option `template_path` not recognized by `TocExporter`.  Did you mean one of: `extra_template_paths, template_name, template_paths`?\n",
    "   [W 00:39:58.601 NotebookApp] Config option `template_path` not recognized by `LenvsHTMLExporter`.  Did you mean one of: `extra_template_paths, template_name, template_paths`?\n",
    "   [W 00:39:58.614 NotebookApp] Config option `template_path` not recognized by `LenvsHTMLExporter`.  Did you mean one of: `extra_template_paths, template_name, template_paths`?\n",
    "   [W 00:39:58.648 NotebookApp] Config option `template_path` not recognized by `LenvsTocHTMLExporter`.  Did you mean one of: `extra_template_paths, template_name, template_paths`?\n",
    "   [W 00:39:58.660 NotebookApp] Config option `template_path` not recognized by `LenvsTocHTMLExporter`.  Did you mean one of: `extra_template_paths, template_name, template_paths`?\n",
    "   [W 00:39:58.726 NotebookApp] Config option `template_path` not recognized by `LenvsLatexExporter`.  Did you mean one of: `extra_template_paths, template_name, template_paths`?\n",
    "   [W 00:39:58.729 NotebookApp] Config option `template_path` not recognized by `LenvsLatexExporter`.  Did you mean one of: `extra_template_paths, template_name, template_paths`?\n",
    "   [W 00:39:58.872 NotebookApp] Config option `template_path` not recognized by `LenvsSlidesExporter`.  Did you mean one of: `extra_template_paths, template_name, template_paths`?\n",
    "   [W 00:39:58.877 NotebookApp] Config option `template_path` not recognized by `LenvsSlidesExporter`.  Did you mean one of: `extra_template_paths, template_name, template_paths`?\n",
    "   [W 00:39:58.934 NotebookApp] Config option `template_path` not recognized by `ExporterCollapsibleHeadings`.  Did you mean one of: `extra_template_paths, template_name, template_paths`?\n",
    "   [W 00:39:58.938 NotebookApp] Config option `template_path` not recognized by `ExporterCollapsibleHeadings`.  Did you mean one of: `extra_template_paths, template_name, template_paths`?\n",
    "   [W 00:39:58.978 NotebookApp] Config option `template_path` not recognized by `TocExporter`.  Did you mean one of: `extra_template_paths, template_name, template_paths`?\n",
    "   [W 00:39:58.985 NotebookApp] Config option `template_path` not recognized by `TocExporter`.  Did you mean one of: `extra_template_paths, template_name, template_paths`?\n",
    "   [W 00:39:58.997 NotebookApp] Config option `template_path` not recognized by `LenvsHTMLExporter`.  Did you mean one of: `extra_template_paths, template_name, template_paths`?\n",
    "   [W 00:39:59.005 NotebookApp] Config option `template_path` not recognized by `LenvsHTMLExporter`.  Did you mean one of: `extra_template_paths, template_name, template_paths`?\n",
    "   [W 00:39:59.031 NotebookApp] Config option `template_path` not recognized by `LenvsTocHTMLExporter`.  Did you mean one of: `extra_template_paths, template_name, template_paths`?\n",
    "   [W 00:39:59.044 NotebookApp] Config option `template_path` not recognized by `LenvsTocHTMLExporter`.  Did you mean one of: `extra_template_paths, template_name, template_paths`?\n",
    "   [W 00:39:59.096 NotebookApp] Config option `template_path` not recognized by `LenvsLatexExporter`.  Did you mean one of: `extra_template_paths, template_name, template_paths`?\n",
    "   [W 00:39:59.103 NotebookApp] Config option `template_path` not recognized by `LenvsLatexExporter`.  Did you mean one of: `extra_template_paths, template_name, template_paths`?\n",
    "   [W 00:39:59.241 NotebookApp] Config option `template_path` not recognized by `LenvsSlidesExporter`.  Did you mean one of: `extra_template_paths, template_name, template_paths`?\n",
    "   [W 00:39:59.246 NotebookApp] Config option `template_path` not recognized by `LenvsSlidesExporter`.  Did you mean one of: `extra_template_paths, template_name, template_paths`?\n",
    "```\n",
    "\n",
    "when using these versions:\n",
    "```\n",
    "$ jupyter --version\n",
    "IPython          : 8.11.0\n",
    "ipykernel        : 6.21.2\n",
    "ipywidgets       : not installed\n",
    "jupyter_client   : 8.0.3\n",
    "jupyter_core     : 5.2.0\n",
    "jupyter_server   : 2.0.0\n",
    "jupyterlab       : not installed\n",
    "nbclient         : 0.5.13\n",
    "nbconvert        : 7.2.9\n",
    "nbformat         : 5.7.3\n",
    "notebook         : 6.2.0\n",
    "qtconsole        : not installed\n",
    "traitlets        : 5.9.0\n",
    "```"
   ]
  },
  {
   "cell_type": "code",
   "execution_count": null,
   "id": "cbef3f24",
   "metadata": {},
   "outputs": [],
   "source": [
    "DRY_RUN=0  # set to 1 to just print the changes\n",
    "SITE_PACKAGES_DIR=$(python -c 'import site; print(site.getsitepackages()[0])')"
   ]
  },
  {
   "cell_type": "code",
   "execution_count": null,
   "id": "601a50b6",
   "metadata": {},
   "outputs": [],
   "source": [
    "patch-template-paths-with-backup() {\n",
    "    _target_relpath=$1\n",
    "    _target_file=$SITE_PACKAGES_DIR/$_target_relpath\n",
    "    _backup_file=$_target_file.orig\n",
    "    if [ -e $_backup_file ]; then\n",
    "        echo \"WARN: $_backup_file exists; assuming patch is already completed\"\n",
    "        return\n",
    "    fi\n",
    "\n",
    "    SED_STRING='s/\\btemplate_path\\b/template_paths/g'\n",
    "\n",
    "    if [ $DRY_RUN -eq 1 ]; then\n",
    "        cat $_target_file |\n",
    "            sed $SED_STRING |\n",
    "            diff -Naur $_target_file -\n",
    "        read\n",
    "    else\n",
    "        set -x\n",
    "        mv $_target_file $_backup_file\n",
    "        set +x\n",
    "        cat $_backup_file |\n",
    "            sed $SED_STRING |\n",
    "            cat > $_target_file\n",
    "    fi\n",
    "}"
   ]
  },
  {
   "cell_type": "code",
   "execution_count": null,
   "id": "8bdba2f2",
   "metadata": {},
   "outputs": [],
   "source": [
    "FILES_TO_CONVERT=(\n",
    "    jupyter_contrib_nbextensions/config_scripts/highlight_html_cfg.py\n",
    "    jupyter_contrib_nbextensions/config_scripts/highlight_latex_cfg.py\n",
    "    jupyter_contrib_nbextensions/install.py\n",
    "    jupyter_contrib_nbextensions/nbconvert_support/exporter_inliner.py\n",
    "    jupyter_contrib_nbextensions/nbconvert_support/toc2.py\n",
    "    jupyter_contrib_nbextensions/nbextensions/runtools/readme.md\n",
    "    jupyter_core/tests/dotipython_empty/profile_default/ipython_nbconvert_config.py\n",
    "    latex_envs/latex_envs.py\n",
    ");"
   ]
  },
  {
   "cell_type": "code",
   "execution_count": null,
   "id": "2e81ffa6",
   "metadata": {},
   "outputs": [],
   "source": [
    "for file_to_convert in ${FILES_TO_CONVERT[@]}; do\n",
    "    echo $file_to_convert\n",
    "    patch-template-paths-with-backup $file_to_convert\n",
    "done"
   ]
  }
 ],
 "metadata": {
  "jupytext": {
   "executable": "/usr/bin/env bash",
   "formats": "ipynb,sh:light"
  },
  "kernelspec": {
   "display_name": "Bash",
   "language": "bash",
   "name": "bash"
  },
  "language_info": {
   "codemirror_mode": "shell",
   "file_extension": ".sh",
   "mimetype": "text/x-sh",
   "name": "bash"
  },
  "toc": {
   "base_numbering": 1,
   "nav_menu": {},
   "number_sections": true,
   "sideBar": true,
   "skip_h1_title": false,
   "title_cell": "Table of Contents",
   "title_sidebar": "Contents",
   "toc_cell": false,
   "toc_position": {},
   "toc_section_display": true,
   "toc_window_display": false
  },
  "varInspector": {
   "cols": {
    "lenName": 16,
    "lenType": 16,
    "lenVar": 40
   },
   "kernels_config": {
    "python": {
     "delete_cmd_postfix": "",
     "delete_cmd_prefix": "del ",
     "library": "var_list.py",
     "varRefreshCmd": "print(var_dic_list())"
    },
    "r": {
     "delete_cmd_postfix": ") ",
     "delete_cmd_prefix": "rm(",
     "library": "var_list.r",
     "varRefreshCmd": "cat(var_dic_list()) "
    }
   },
   "types_to_exclude": [
    "module",
    "function",
    "builtin_function_or_method",
    "instance",
    "_Feature"
   ],
   "window_display": false
  }
 },
 "nbformat": 4,
 "nbformat_minor": 5
}
